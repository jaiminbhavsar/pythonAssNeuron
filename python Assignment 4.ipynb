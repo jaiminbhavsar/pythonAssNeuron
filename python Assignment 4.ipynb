{
 "cells": [
  {
   "cell_type": "markdown",
   "metadata": {},
   "source": [
    "1.1 Write a Python Program(with class concepts) to find the area of the triangle using the below\n",
    "formula.\n",
    "area = (s*(s-a)*(s-b)*(s-c)) ** 0.5\n",
    "Function to take the length of the sides of triangle from user should be defined in the parent\n",
    "class and function to calculate the area should be defined in subclass."
   ]
  },
  {
   "cell_type": "code",
   "execution_count": null,
   "metadata": {},
   "outputs": [],
   "source": [
    "class Parent():\n",
    "    def __init__(self,s,a,b,c):\n",
    "        self.s = s\n",
    "        self.a = a\n",
    "        self.b = b\n",
    "        self.c = c\n",
    "\n",
    "class Child(Parent):\n",
    "    def __init__(self,*args):\n",
    "        super().__init__(*args)\n",
    "    \n",
    "    def area(self):\n",
    "        area = (self.s * (self.s - self.a) * (self.s - self.b) * (self.s - self.c)) ** 0.5\n",
    "        return area\n",
    "\n",
    "c1 = Child(10,2,3,4)\n",
    "print(c1.area())\n"
   ]
  },
  {
   "cell_type": "markdown",
   "metadata": {},
   "source": [
    "Write a function filter_long_words() that takes a list of words and an integer n and returns\n",
    "the list of words that are longer than n."
   ]
  },
  {
   "cell_type": "code",
   "execution_count": null,
   "metadata": {},
   "outputs": [],
   "source": [
    "lst = ['Hello','World','Machine Learning','Deep Learning','Class','Object','Run','Cell']\n",
    "lst1=[]\n",
    "def filter_long_words(lst,n):\n",
    "    for i in range(len(lst)):\n",
    "        if(len(lst[i]) > n):\n",
    "            lst1.append(lst[i])\n",
    "filter_long_words(lst,5)\n",
    "print(lst1)"
   ]
  },
  {
   "cell_type": "markdown",
   "metadata": {},
   "source": [
    "2.1 Write a Python program using function concept that maps list of words into a list of integers\n",
    "representing the lengths of the corresponding words.\n",
    "Hint: If a list [ ab,cde,erty] is passed on to the python function output should come as [2,3,4]\n",
    "Here 2,3 and 4 are the lengths of the words in the list."
   ]
  },
  {
   "cell_type": "code",
   "execution_count": null,
   "metadata": {},
   "outputs": [],
   "source": [
    "lst = ['Hello','World','Machine Learning','Deep Learning','Class','Object','Run','Cell']\n",
    "lst1=[]\n",
    "def mapWord(lst):\n",
    "    for i in range(len(lst)):\n",
    "        lst1.append(len(lst[i]))\n",
    "        \n",
    "mapWord(lst)\n",
    "print(lst1)"
   ]
  },
  {
   "cell_type": "markdown",
   "metadata": {},
   "source": [
    "2.2 Write a Python function which takes a character (i.e. a string of length 1) and returns True if\n",
    "it is a vowel, False otherwise"
   ]
  },
  {
   "cell_type": "code",
   "execution_count": null,
   "metadata": {},
   "outputs": [],
   "source": [
    "import sys\n",
    "lst = ['a','e','i','o','u']\n",
    "def checkVowel():\n",
    "    char = input(\"Enter the Character: \")\n",
    "    if(len(char)>1):\n",
    "        sys.exit(\"Length of the input should be 1\")\n",
    "    char = char.lower()\n",
    "    if char in lst:\n",
    "        return True\n",
    "    else:\n",
    "        return False\n",
    "print(checkVowel())"
   ]
  },
  {
   "cell_type": "code",
   "execution_count": null,
   "metadata": {},
   "outputs": [],
   "source": []
  }
 ],
 "metadata": {
  "kernelspec": {
   "display_name": "Python 3",
   "language": "python",
   "name": "python3"
  },
  "language_info": {
   "codemirror_mode": {
    "name": "ipython",
    "version": 3
   },
   "file_extension": ".py",
   "mimetype": "text/x-python",
   "name": "python",
   "nbconvert_exporter": "python",
   "pygments_lexer": "ipython3",
   "version": "3.8.3"
  }
 },
 "nbformat": 4,
 "nbformat_minor": 4
}
